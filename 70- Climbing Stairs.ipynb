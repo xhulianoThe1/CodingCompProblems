{
 "cells": [
  {
   "cell_type": "code",
   "execution_count": null,
   "metadata": {},
   "outputs": [],
   "source": [
    "class Solution(object):\n",
    "    def climbStairs(self, n):\n",
    "        if n == 0 or n == 1: \n",
    "            ans = 1\n",
    "            return ans \n",
    "        b = [None] * (n+1)\n",
    "        b[0] = 1\n",
    "        b[1] = 1\n",
    "        for i in range(2, n + 1):\n",
    "            b[i] = b[i-1] + b[i-2]\n",
    "            ans = b[i]\n",
    "        return ans"
   ]
  }
 ],
 "metadata": {
  "kernelspec": {
   "display_name": "Python 3",
   "language": "python",
   "name": "python3"
  },
  "language_info": {
   "codemirror_mode": {
    "name": "ipython",
    "version": 3
   },
   "file_extension": ".py",
   "mimetype": "text/x-python",
   "name": "python",
   "nbconvert_exporter": "python",
   "pygments_lexer": "ipython3",
   "version": "3.7.3"
  }
 },
 "nbformat": 4,
 "nbformat_minor": 2
}
