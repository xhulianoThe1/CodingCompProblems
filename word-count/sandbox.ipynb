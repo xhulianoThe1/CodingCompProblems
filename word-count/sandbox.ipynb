{
 "cells": [
  {
   "cell_type": "code",
   "execution_count": 79,
   "metadata": {},
   "outputs": [
    {
     "name": "stdout",
     "output_type": "stream",
     "text": [
      "Counter({'hey': 1})\n",
      "['hey']\n",
      "Counter({'hey': 1})\n",
      "Counter({'hey': 1})\n",
      "['hey']\n",
      "Counter({'my': 1})\n",
      "['my']\n",
      "Counter({'spacebar': 1})\n",
      "['spacebar']\n",
      "Counter({'is': 1})\n",
      "['is']\n",
      "Counter({'broken': 1})\n",
      "['broken']\n",
      "Counter({'broken': 1})\n"
     ]
    }
   ],
   "source": [
    "import re \n",
    "from collections import defaultdict\n",
    "\n",
    "def count_words(sentence):\n",
    "    dic = defaultdict(int)\n",
    "    sentence = re.split(\"[^a-zA-Z0-9't]\", sentence.lower())\n",
    "\n",
    "    for word in sentence: \n",
    "        if word: \n",
    "            word = [word.strip(\"'\")]\n",
    "#             dic[word] += 1\n",
    "            print(collections.Counter(word))\n",
    "            print(word)\n",
    "            c = collections.Counter(word)\n",
    "    return c\n",
    "    return dic    \n",
    "\n",
    "print(count_words(\"''hey''\"))\n",
    "print(count_words(\"hey,my_spacebar_is_broken\")    )"
   ]
  },
  {
   "cell_type": "code",
   "execution_count": 9,
   "metadata": {},
   "outputs": [
    {
     "ename": "NameError",
     "evalue": "name 'word' is not defined",
     "output_type": "error",
     "traceback": [
      "\u001b[0;31m---------------------------------------------------------------------------\u001b[0m",
      "\u001b[0;31mNameError\u001b[0m                                 Traceback (most recent call last)",
      "\u001b[0;32m<ipython-input-9-57b61308caa9>\u001b[0m in \u001b[0;36m<module>\u001b[0;34m\u001b[0m\n\u001b[1;32m      1\u001b[0m \u001b[0;32mfrom\u001b[0m \u001b[0mcollections\u001b[0m \u001b[0;32mimport\u001b[0m \u001b[0mdefaultdict\u001b[0m\u001b[0;34m\u001b[0m\u001b[0;34m\u001b[0m\u001b[0m\n\u001b[1;32m      2\u001b[0m \u001b[0mdic\u001b[0m \u001b[0;34m=\u001b[0m \u001b[0mdefaultdict\u001b[0m\u001b[0;34m(\u001b[0m\u001b[0;34m)\u001b[0m\u001b[0;34m\u001b[0m\u001b[0;34m\u001b[0m\u001b[0m\n\u001b[0;32m----> 3\u001b[0;31m \u001b[0mdic\u001b[0m\u001b[0;34m[\u001b[0m\u001b[0mword\u001b[0m\u001b[0;34m]\u001b[0m \u001b[0;34m+=\u001b[0m \u001b[0;36m1\u001b[0m\u001b[0;34m\u001b[0m\u001b[0;34m\u001b[0m\u001b[0m\n\u001b[0m",
      "\u001b[0;31mNameError\u001b[0m: name 'word' is not defined"
     ]
    }
   ],
   "source": [
    "from collections import defaultdict\n",
    "dic = defaultdict()\n",
    "dic[word] += 1"
   ]
  },
  {
   "cell_type": "code",
   "execution_count": 227,
   "metadata": {},
   "outputs": [
    {
     "data": {
      "text/plain": [
       "'Joe cant tell between large and large.'"
      ]
     },
     "execution_count": 227,
     "metadata": {},
     "output_type": "execute_result"
    }
   ],
   "source": [
    "s = \"Joe can't tell between 'large' and large.\" \n",
    "# s.split(\"'t\")\n",
    "# print(s)\n",
    "# re.split(\"[^a-zA-Z0-9]'t\", s)\n",
    "s.replace(\"'\", \"\")"
   ]
  },
  {
   "cell_type": "code",
   "execution_count": 230,
   "metadata": {},
   "outputs": [
    {
     "data": {
      "text/plain": [
       "\"'\""
      ]
     },
     "execution_count": 230,
     "metadata": {},
     "output_type": "execute_result"
    }
   ],
   "source": [
    "s = \"'large'\"\n",
    "s[-1]"
   ]
  },
  {
   "cell_type": "code",
   "execution_count": null,
   "metadata": {},
   "outputs": [],
   "source": []
  }
 ],
 "metadata": {
  "kernelspec": {
   "display_name": "Python 3",
   "language": "python",
   "name": "python3"
  },
  "language_info": {
   "codemirror_mode": {
    "name": "ipython",
    "version": 3
   },
   "file_extension": ".py",
   "mimetype": "text/x-python",
   "name": "python",
   "nbconvert_exporter": "python",
   "pygments_lexer": "ipython3",
   "version": "3.7.4"
  }
 },
 "nbformat": 4,
 "nbformat_minor": 2
}
