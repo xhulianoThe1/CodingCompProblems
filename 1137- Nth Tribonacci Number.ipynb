{
 "cells": [
  {
   "cell_type": "code",
   "execution_count": 9,
   "metadata": {},
   "outputs": [],
   "source": [
    "class Solution(object):\n",
    "    def tribonacci(self, n):\n",
    "        if n == 0: \n",
    "            return 0\n",
    "        elif n == 1 or n == 2: \n",
    "            return 1\n",
    "        b = [None]*(n + 1)\n",
    "        b[0] = 0\n",
    "        b[1] = 1\n",
    "        b[2] = 1\n",
    "        for i in range(3, n+1):    \n",
    "            b[i] = b[i-1] + b[i-2] + b[i-3]\n",
    "        return b[i]"
   ]
  }
 ],
 "metadata": {
  "kernelspec": {
   "display_name": "Python 3",
   "language": "python",
   "name": "python3"
  },
  "language_info": {
   "codemirror_mode": {
    "name": "ipython",
    "version": 3
   },
   "file_extension": ".py",
   "mimetype": "text/x-python",
   "name": "python",
   "nbconvert_exporter": "python",
   "pygments_lexer": "ipython3",
   "version": "3.7.3"
  }
 },
 "nbformat": 4,
 "nbformat_minor": 2
}
